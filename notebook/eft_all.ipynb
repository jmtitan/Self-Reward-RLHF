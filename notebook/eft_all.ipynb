{
 "cells": [
  {
   "cell_type": "code",
   "execution_count": 262,
   "id": "26a73a21-ab30-4940-9246-75fc89cea62c",
   "metadata": {},
   "outputs": [],
   "source": [
    "import jsonlines\n",
    "import pandas as pd\n",
    "import json\n",
    "import numpy as np\n",
    "from scipy.stats import spearmanr\n",
    "from scipy.stats import kendalltau"
   ]
  },
  {
   "cell_type": "code",
   "execution_count": 273,
   "id": "ca641b5e-81e6-4466-9240-c65ebdd9e106",
   "metadata": {},
   "outputs": [],
   "source": [
    "input_path_A = 'scores_M2.jsonl' # 'scores_M1.jsonl' 'scores_M2.jsonl' 'scores_gemini200.jsonl'\n",
    "input_path_B = 'gbt_scores.jsonl'"
   ]
  },
  {
   "cell_type": "code",
   "execution_count": 274,
   "id": "680495ad-f500-4a2c-8d77-3e931d5ea327",
   "metadata": {},
   "outputs": [],
   "source": [
    "def get_scores(input_path):\n",
    "    df = pd.read_json(path_or_buf=input_path, lines=True)\n",
    "    results = []\n",
    "\n",
    "    for index, row in df.iterrows():\n",
    "        completion = row['completion']\n",
    "\n",
    "        list = []\n",
    "\n",
    "        for i in range(4):\n",
    "\n",
    "            list.append(completion[str(i)]['score'])\n",
    "    \n",
    "        results.append({index: list})\n",
    "\n",
    "    return results\n",
    "            "
   ]
  },
  {
   "cell_type": "code",
   "execution_count": 275,
   "id": "8c063d03-0930-44ff-893d-1871fd6324b9",
   "metadata": {
    "scrolled": true
   },
   "outputs": [],
   "source": [
    "results_A = get_scores(input_path_A)\n",
    "results_B = get_scores(input_path_B)"
   ]
  },
  {
   "cell_type": "code",
   "execution_count": 276,
   "id": "cda47fd6-e2a9-4faf-8736-23051a02ee7b",
   "metadata": {
    "scrolled": true
   },
   "outputs": [],
   "source": [
    "def get_pairwise_accuracy(results_A, results_B):\n",
    "    correct = 0\n",
    "    for i in range(len(results_A)):\n",
    "        current_scores_A = np.array(results_A[i][i])\n",
    "        current_scores_B = np.array(results_B[i][i])\n",
    "        difference = current_scores_A - current_scores_B\n",
    "        current_pairwire_correct = np.count_nonzero(difference == 0)\n",
    "        correct += current_pairwire_correct\n",
    "    accuracy = correct / (len(results_A) * 4)\n",
    "    return accuracy"
   ]
  },
  {
   "cell_type": "code",
   "execution_count": 277,
   "id": "c8fe5340-eb73-4a8f-9116-31a5cde04a2d",
   "metadata": {
    "scrolled": true
   },
   "outputs": [
    {
     "data": {
      "text/plain": [
       "0.0375"
      ]
     },
     "execution_count": 277,
     "metadata": {},
     "output_type": "execute_result"
    }
   ],
   "source": [
    "get_pairwise_accuracy(results_A, results_B)"
   ]
  },
  {
   "cell_type": "code",
   "execution_count": 268,
   "id": "c945bc1f-cf3d-45aa-99b6-f5d33391d9a0",
   "metadata": {},
   "outputs": [],
   "source": [
    "def get_5_best(results_A, results_B):\n",
    "    total_5 = 0\n",
    "    correct_5 = 0\n",
    "    for i in range(len(results_A)):\n",
    "        \n",
    "        current_scores_A = np.array(results_A[i][i])\n",
    "        current_scores_B = np.array(results_B[i][i])\n",
    "        index_of_best_A = np.where(current_scores_A == 5)[0]\n",
    "        index_of_best_B = np.where(current_scores_B == 5)[0]\n",
    "        \n",
    "        for j in range(len(index_of_best_A)):\n",
    "            for k in range(len(index_of_best_B)):\n",
    "                if index_of_best_A[j] == index_of_best_B[k]:\n",
    "                    correct_5 += 1\n",
    "\n",
    "        total_5 += len(index_of_best_A)\n",
    "    accuracy = correct_5 / total_5\n",
    "    \n",
    "    return accuracy"
   ]
  },
  {
   "cell_type": "code",
   "execution_count": 270,
   "id": "4a804c21-02de-4209-8c0f-07ed5495dce2",
   "metadata": {},
   "outputs": [
    {
     "data": {
      "text/plain": [
       "0.571072319201995"
      ]
     },
     "execution_count": 270,
     "metadata": {},
     "output_type": "execute_result"
    }
   ],
   "source": [
    "get_5_best(results_A, results_B)"
   ]
  },
  {
   "cell_type": "code",
   "execution_count": 271,
   "id": "5686eecd-08ef-47a5-a71d-6524f3f9886a",
   "metadata": {},
   "outputs": [],
   "source": [
    "def get_exact_match(results_A, results_B):\n",
    "    exact_match = 0\n",
    "    for i in range(len(results_A)):\n",
    "        current_scores_A = np.array(results_A[i][i])\n",
    "        current_scores_B = np.array(results_B[i][i])\n",
    "        difference = current_scores_A - current_scores_B\n",
    "        current_pairwire_correct = np.count_nonzero(difference == 0)\n",
    "        if current_pairwire_correct == 4:\n",
    "            exact_match += 1\n",
    "    accuracy = exact_match / len(results_A)\n",
    "    return accuracy"
   ]
  },
  {
   "cell_type": "code",
   "execution_count": 272,
   "id": "25f5a7bc-0586-4c5f-9c0b-5a0e286e336c",
   "metadata": {},
   "outputs": [
    {
     "data": {
      "text/plain": [
       "0.03"
      ]
     },
     "execution_count": 272,
     "metadata": {},
     "output_type": "execute_result"
    }
   ],
   "source": [
    "get_exact_match(results_A, results_B)"
   ]
  },
  {
   "cell_type": "code",
   "execution_count": 238,
   "id": "8aa6a1c0-a515-4120-a940-76436f962915",
   "metadata": {},
   "outputs": [],
   "source": [
    "def spearman_corr(results_A, results_B):\n",
    "    list_A = []\n",
    "    list_B = []\n",
    "\n",
    "    for item in results_A:\n",
    "        for key, value in item.items():\n",
    "            list_A.extend(value)\n",
    "    for item in results_B:\n",
    "        for key, value in item.items():\n",
    "            list_B.extend(value)\n",
    "\n",
    "    correlation, p_value = spearmanr(list_A, list_B)\n",
    "    \n",
    "    return correlation"
   ]
  },
  {
   "cell_type": "code",
   "execution_count": 240,
   "id": "8842306b-00bc-4a0d-9c59-4305774810e2",
   "metadata": {},
   "outputs": [
    {
     "data": {
      "text/plain": [
       "0.34022014676825735"
      ]
     },
     "execution_count": 240,
     "metadata": {},
     "output_type": "execute_result"
    }
   ],
   "source": [
    "spearman_corr(results_A, results_B)"
   ]
  },
  {
   "cell_type": "code",
   "execution_count": 241,
   "id": "3907010d-ba42-437e-98be-e078bf44bd36",
   "metadata": {},
   "outputs": [],
   "source": [
    "def kendall_tau(results_A, results_B):\n",
    "    list_A = []\n",
    "    list_B = []\n",
    "\n",
    "    for item in results_A:\n",
    "        for key, value in item.items():\n",
    "            list_A.extend(value)\n",
    "    for item in results_B:\n",
    "        for key, value in item.items():\n",
    "            list_B.extend(value)\n",
    "\n",
    "    tau, p_value = kendalltau(list_A, list_B)\n",
    "    \n",
    "    return tau"
   ]
  },
  {
   "cell_type": "code",
   "execution_count": 242,
   "id": "1768a48f-cac4-4c4b-b48d-6f5e831e798f",
   "metadata": {},
   "outputs": [
    {
     "data": {
      "text/plain": [
       "0.3022169281141561"
      ]
     },
     "execution_count": 242,
     "metadata": {},
     "output_type": "execute_result"
    }
   ],
   "source": [
    "kendall_tau(results_A, results_B)"
   ]
  },
  {
   "cell_type": "code",
   "execution_count": null,
   "id": "bcd77b07-dbcb-4465-8f78-b96e56a21711",
   "metadata": {},
   "outputs": [],
   "source": []
  },
  {
   "cell_type": "code",
   "execution_count": null,
   "id": "e0022ca5-ebf9-4b73-8fb3-e50dd6d9aa6a",
   "metadata": {},
   "outputs": [],
   "source": []
  }
 ],
 "metadata": {
  "kernelspec": {
   "display_name": "Python 3 (ipykernel)",
   "language": "python",
   "name": "python3"
  },
  "language_info": {
   "codemirror_mode": {
    "name": "ipython",
    "version": 3
   },
   "file_extension": ".py",
   "mimetype": "text/x-python",
   "name": "python",
   "nbconvert_exporter": "python",
   "pygments_lexer": "ipython3",
   "version": "3.12.2"
  }
 },
 "nbformat": 4,
 "nbformat_minor": 5
}
